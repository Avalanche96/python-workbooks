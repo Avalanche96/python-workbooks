{
 "cells": [
  {
   "cell_type": "code",
   "execution_count": 1,
   "id": "0d5af501-2b59-416a-8bc0-d6a63c126959",
   "metadata": {},
   "outputs": [],
   "source": [
    "import pandas as pd\n",
    "air_quality=pd.read_pickle('air_quality.pkl')"
   ]
  },
  {
   "cell_type": "code",
   "execution_count": 2,
   "id": "b411b385-ae9d-4fbc-83a1-e360b9fec3a0",
   "metadata": {},
   "outputs": [
    {
     "data": {
      "text/plain": [
       "0         Friday\n",
       "1         Friday\n",
       "2         Friday\n",
       "3         Friday\n",
       "4         Friday\n",
       "          ...   \n",
       "95680    Tuesday\n",
       "95681    Tuesday\n",
       "95682    Tuesday\n",
       "95683    Tuesday\n",
       "95684    Tuesday\n",
       "Name: day_of_week_name, Length: 95685, dtype: object"
      ]
     },
     "execution_count": 2,
     "metadata": {},
     "output_type": "execute_result"
    }
   ],
   "source": [
    "air_quality['day_of_week_name']"
   ]
  },
  {
   "cell_type": "code",
   "execution_count": 3,
   "id": "15a97f9f-bd54-451f-be3f-e898ecf78c4c",
   "metadata": {},
   "outputs": [
    {
     "data": {
      "text/plain": [
       "day_of_week_name\n",
       "Sunday       13931\n",
       "Saturday     13812\n",
       "Friday       13782\n",
       "Thursday     13633\n",
       "Monday       13536\n",
       "Tuesday      13523\n",
       "Wednesday    13468\n",
       "Name: count, dtype: int64"
      ]
     },
     "execution_count": 3,
     "metadata": {},
     "output_type": "execute_result"
    }
   ],
   "source": [
    "air_quality['day_of_week_name'].value_counts()"
   ]
  },
  {
   "cell_type": "code",
   "execution_count": 4,
   "id": "b091935f-a8da-4ec4-b5d3-37d7156fdc0a",
   "metadata": {},
   "outputs": [
    {
     "data": {
      "text/plain": [
       "0        Weekday\n",
       "1        Weekday\n",
       "2        Weekday\n",
       "3        Weekday\n",
       "4        Weekday\n",
       "          ...   \n",
       "95680    Weekday\n",
       "95681    Weekday\n",
       "95682    Weekday\n",
       "95683    Weekday\n",
       "95684    Weekday\n",
       "Name: day_of_week_name, Length: 95685, dtype: object"
      ]
     },
     "execution_count": 4,
     "metadata": {},
     "output_type": "execute_result"
    }
   ],
   "source": [
    "day_of_week_mapping ={'Monday' : 'Weekday', 'Tuesday' : 'Weekday', 'Wednesday' : '', 'Thursday' : 'Weekday', 'Friday' : 'Weekday', 'Saturday' : 'Weekend', 'Sunday' : 'Weekend'}\n",
    "air_quality['day_of_week_name'].map(arg=day_of_week_mapping)"
   ]
  },
  {
   "cell_type": "code",
   "execution_count": 5,
   "id": "f907480f-9608-45e6-87d3-43ff70ee1ca7",
   "metadata": {},
   "outputs": [
    {
     "data": {
      "text/plain": [
       "day_of_week_name\n",
       "Weekday    54474\n",
       "Weekend    27743\n",
       "           13468\n",
       "Name: count, dtype: int64"
      ]
     },
     "execution_count": 5,
     "metadata": {},
     "output_type": "execute_result"
    }
   ],
   "source": [
    "air_quality['day_of_week_name'].map(arg=day_of_week_mapping).value_counts()"
   ]
  },
  {
   "cell_type": "code",
   "execution_count": 6,
   "id": "380e5dcb-ccc1-4b29-aec0-81a2defc7c3a",
   "metadata": {},
   "outputs": [
    {
     "data": {
      "text/plain": [
       "day_of_week_name\n",
       "Sunday       13931\n",
       "Saturday     13812\n",
       "Friday       13782\n",
       "Thursday     13633\n",
       "Monday       13536\n",
       "Tuesday      13523\n",
       "Wednesday    13468\n",
       "Name: count, dtype: int64"
      ]
     },
     "execution_count": 6,
     "metadata": {},
     "output_type": "execute_result"
    }
   ],
   "source": [
    "air_quality['day_of_week_name'].value_counts()"
   ]
  },
  {
   "cell_type": "code",
   "execution_count": 7,
   "id": "39cebac6-8645-40f6-b409-5c1d6a38dbc7",
   "metadata": {},
   "outputs": [
    {
     "data": {
      "text/plain": [
       "0        6\n",
       "1        6\n",
       "2        6\n",
       "3        6\n",
       "4        6\n",
       "        ..\n",
       "95680    7\n",
       "95681    7\n",
       "95682    7\n",
       "95683    7\n",
       "95684    7\n",
       "Name: day_of_week_name, Length: 95685, dtype: int64"
      ]
     },
     "execution_count": 7,
     "metadata": {},
     "output_type": "execute_result"
    }
   ],
   "source": [
    "air_quality['day_of_week_name'].map(len)"
   ]
  },
  {
   "cell_type": "code",
   "execution_count": 8,
   "id": "63ffb769-c67c-42a3-97cc-1a9263d66d46",
   "metadata": {},
   "outputs": [
    {
     "data": {
      "text/plain": [
       "0        3228.000000\n",
       "1        3227.958333\n",
       "2        3227.791667\n",
       "3        3227.750000\n",
       "4        3227.708333\n",
       "            ...     \n",
       "95680    1767.375000\n",
       "95681    1767.333333\n",
       "95682    1767.125000\n",
       "95683    1767.083333\n",
       "95684    1767.041667\n",
       "Name: time_until_2022_days, Length: 95685, dtype: float64"
      ]
     },
     "execution_count": 8,
     "metadata": {},
     "output_type": "execute_result"
    }
   ],
   "source": [
    "air_quality['time_until_2022_days']"
   ]
  },
  {
   "cell_type": "code",
   "execution_count": 9,
   "id": "5a1168c8-ab6c-4996-a5c2-bf45ac0251ae",
   "metadata": {},
   "outputs": [
    {
     "data": {
      "text/plain": [
       "0        3228\n",
       "1        3227\n",
       "2        3227\n",
       "3        3227\n",
       "4        3227\n",
       "         ... \n",
       "95680    1767\n",
       "95681    1767\n",
       "95682    1767\n",
       "95683    1767\n",
       "95684    1767\n",
       "Name: time_until_2022_days, Length: 95685, dtype: int64"
      ]
     },
     "execution_count": 9,
     "metadata": {},
     "output_type": "execute_result"
    }
   ],
   "source": [
    "air_quality['time_until_2022_days'].map(int)"
   ]
  },
  {
   "cell_type": "code",
   "execution_count": 10,
   "id": "be500aa8-dd4a-4a62-a85a-6a1e8c8653fb",
   "metadata": {},
   "outputs": [
    {
     "data": {
      "text/plain": [
       "0        Weekday\n",
       "1        Weekday\n",
       "2        Weekday\n",
       "3        Weekday\n",
       "4        Weekday\n",
       "          ...   \n",
       "95680    Weekday\n",
       "95681    Weekday\n",
       "95682    Weekday\n",
       "95683    Weekday\n",
       "95684    Weekday\n",
       "Name: day_of_week_name, Length: 95685, dtype: object"
      ]
     },
     "execution_count": 10,
     "metadata": {},
     "output_type": "execute_result"
    }
   ],
   "source": [
    "air_quality['day_of_week_name'].map(lambda day: 'Weekend' if day in ['Saturday', 'Sunday'] else 'Weekday')"
   ]
  },
  {
   "cell_type": "code",
   "execution_count": 12,
   "id": "c87c109f-a7c1-4673-a9e0-802ac3f9e3d6",
   "metadata": {},
   "outputs": [],
   "source": [
    "def weekday_weekend(day):\n",
    "    if day in ['Saturday', 'Sunday']:\n",
    "        return 'Weekend'\n",
    "    else:\n",
    "        return 'Weekday'"
   ]
  },
  {
   "cell_type": "code",
   "execution_count": 13,
   "id": "77fc2444-75aa-4cab-8a64-2d8327097337",
   "metadata": {},
   "outputs": [
    {
     "data": {
      "text/plain": [
       "0        Weekday\n",
       "1        Weekday\n",
       "2        Weekday\n",
       "3        Weekday\n",
       "4        Weekday\n",
       "          ...   \n",
       "95680    Weekday\n",
       "95681    Weekday\n",
       "95682    Weekday\n",
       "95683    Weekday\n",
       "95684    Weekday\n",
       "Name: day_of_week_name, Length: 95685, dtype: object"
      ]
     },
     "execution_count": 13,
     "metadata": {},
     "output_type": "execute_result"
    }
   ],
   "source": [
    "air_quality['day_of_week_name'].map(weekday_weekend)"
   ]
  },
  {
   "cell_type": "code",
   "execution_count": 14,
   "id": "f43bd1a4-0a53-4e42-8caa-6a8a227895c8",
   "metadata": {},
   "outputs": [
    {
     "data": {
      "text/plain": [
       "wd\n",
       "NE     9447\n",
       "ENE    8744\n",
       "E      7848\n",
       "NW     7124\n",
       "N      6962\n",
       "SW     6410\n",
       "ESE    6107\n",
       "SSW    6103\n",
       "NNE    5930\n",
       "S      4939\n",
       "WSW    4686\n",
       "SE     4651\n",
       "NNW    4605\n",
       "WNW    4324\n",
       "SSE    3951\n",
       "W      3854\n",
       "Name: count, dtype: int64"
      ]
     },
     "execution_count": 14,
     "metadata": {},
     "output_type": "execute_result"
    }
   ],
   "source": [
    "air_quality['wd'].value_counts()"
   ]
  },
  {
   "cell_type": "code",
   "execution_count": 15,
   "id": "410addab-305d-4334-b280-4efd754f3e82",
   "metadata": {},
   "outputs": [],
   "source": [
    "def wind_direction(direction):\n",
    "    if direction[0]== 'N':\n",
    "        return 'North'\n",
    "    elif direction[0]== 'S':\n",
    "        return 'South'\n",
    "    elif direction[0]== 'E':\n",
    "        return 'East'\n",
    "    else:\n",
    "        return 'West'"
   ]
  },
  {
   "cell_type": "code",
   "execution_count": 18,
   "id": "2bc70cb2-d6d0-48d2-b9ac-993e6f32ada6",
   "metadata": {},
   "outputs": [
    {
     "data": {
      "text/plain": [
       "wd\n",
       "North    34068\n",
       "South    26054\n",
       "East     22699\n",
       "West     12864\n",
       "Name: count, dtype: int64"
      ]
     },
     "execution_count": 18,
     "metadata": {},
     "output_type": "execute_result"
    }
   ],
   "source": [
    "air_quality['wd'].map(wind_direction).value_counts()"
   ]
  },
  {
   "cell_type": "code",
   "execution_count": 21,
   "id": "5265194c-d312-4689-b6a4-d14dd64ef52d",
   "metadata": {},
   "outputs": [],
   "source": [
    "air_quality.to_pickle('air_quality.pkl')"
   ]
  },
  {
   "cell_type": "code",
   "execution_count": null,
   "id": "e952e3c2-68c6-4619-9db3-8ac2cbb1d6ba",
   "metadata": {},
   "outputs": [],
   "source": []
  }
 ],
 "metadata": {
  "kernelspec": {
   "display_name": "Python 3 (ipykernel)",
   "language": "python",
   "name": "python3"
  },
  "language_info": {
   "codemirror_mode": {
    "name": "ipython",
    "version": 3
   },
   "file_extension": ".py",
   "mimetype": "text/x-python",
   "name": "python",
   "nbconvert_exporter": "python",
   "pygments_lexer": "ipython3",
   "version": "3.12.4"
  }
 },
 "nbformat": 4,
 "nbformat_minor": 5
}
