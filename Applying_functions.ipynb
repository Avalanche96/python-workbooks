{
 "cells": [
  {
   "cell_type": "code",
   "execution_count": 1,
   "id": "cd8e23ba-7bb9-49f5-9dbd-9c789bdc0c60",
   "metadata": {},
   "outputs": [],
   "source": [
    "import pandas as pd\n",
    "air_quality=pd.read_pickle('air_quality.pkl')"
   ]
  },
  {
   "cell_type": "code",
   "execution_count": 4,
   "id": "25b9dd04-09ff-4f33-af8c-c065f92ed404",
   "metadata": {},
   "outputs": [
    {
     "data": {
      "text/plain": [
       "PM2.5     83.477884\n",
       "PM10     111.899959\n",
       "dtype: float64"
      ]
     },
     "execution_count": 4,
     "metadata": {},
     "output_type": "execute_result"
    }
   ],
   "source": [
    "air_quality[['PM2.5', 'PM10']].apply('mean', axis=0)"
   ]
  },
  {
   "cell_type": "code",
   "execution_count": 5,
   "id": "93260657-859e-4fe2-aed2-267ec7f02f5b",
   "metadata": {},
   "outputs": [
    {
     "data": {
      "text/plain": [
       "0         9.0\n",
       "1         4.0\n",
       "2         4.0\n",
       "3         5.0\n",
       "4         4.5\n",
       "         ... \n",
       "95680     9.0\n",
       "95681    19.5\n",
       "95682    25.0\n",
       "95683    28.5\n",
       "95684    32.5\n",
       "Length: 95685, dtype: float64"
      ]
     },
     "execution_count": 5,
     "metadata": {},
     "output_type": "execute_result"
    }
   ],
   "source": [
    "air_quality[['PM2.5', 'PM10']].apply('mean', axis=1)"
   ]
  },
  {
   "cell_type": "code",
   "execution_count": 7,
   "id": "0be33a3d-a771-4d33-bcb9-5199e8bf8466",
   "metadata": {},
   "outputs": [
    {
     "data": {
      "text/plain": [
       "PM2.5     83.477884\n",
       "PM10     111.899959\n",
       "dtype: float64"
      ]
     },
     "execution_count": 7,
     "metadata": {},
     "output_type": "execute_result"
    }
   ],
   "source": [
    "air_quality[['PM2.5', 'PM10']].mean()"
   ]
  },
  {
   "cell_type": "code",
   "execution_count": 8,
   "id": "51aab4a2-65f2-4f86-b3c5-d2c02f5362c1",
   "metadata": {},
   "outputs": [
    {
     "data": {
      "text/plain": [
       "0         9.0\n",
       "1         4.0\n",
       "2         4.0\n",
       "3         5.0\n",
       "4         4.5\n",
       "         ... \n",
       "95680     9.0\n",
       "95681    19.5\n",
       "95682    25.0\n",
       "95683    28.5\n",
       "95684    32.5\n",
       "Length: 95685, dtype: float64"
      ]
     },
     "execution_count": 8,
     "metadata": {},
     "output_type": "execute_result"
    }
   ],
   "source": [
    "air_quality[['PM2.5', 'PM10']].mean(axis=1)"
   ]
  },
  {
   "cell_type": "code",
   "execution_count": 9,
   "id": "290002dd-4444-4dcb-b9a0-d6cd87077da8",
   "metadata": {},
   "outputs": [
    {
     "data": {
      "text/plain": [
       "0        1.000000\n",
       "1        1.000000\n",
       "2        1.000000\n",
       "3        1.000000\n",
       "4        0.500000\n",
       "           ...   \n",
       "95680    1.000000\n",
       "95681    0.344828\n",
       "95682    0.562500\n",
       "95683    0.357143\n",
       "95684    0.300000\n",
       "Length: 95685, dtype: float64"
      ]
     },
     "execution_count": 9,
     "metadata": {},
     "output_type": "execute_result"
    }
   ],
   "source": [
    "def pm_ratio(row):\n",
    "    return row['PM2.5']/row['PM10']\n",
    "\n",
    "air_quality.apply(pm_ratio, axis=1)"
   ]
  },
  {
   "cell_type": "code",
   "execution_count": 10,
   "id": "ab1411d9-5f3d-4d75-9c79-fbe35db64fef",
   "metadata": {},
   "outputs": [
    {
     "data": {
      "text/plain": [
       "0        1.000000\n",
       "1        1.000000\n",
       "2        1.000000\n",
       "3        1.000000\n",
       "4        0.500000\n",
       "           ...   \n",
       "95680    1.000000\n",
       "95681    0.344828\n",
       "95682    0.562500\n",
       "95683    0.357143\n",
       "95684    0.300000\n",
       "Length: 95685, dtype: float64"
      ]
     },
     "execution_count": 10,
     "metadata": {},
     "output_type": "execute_result"
    }
   ],
   "source": [
    "air_quality.apply(lambda row: row['PM2.5']/row['PM10'], axis=1)"
   ]
  },
  {
   "cell_type": "code",
   "execution_count": 11,
   "id": "71fc9187-2f80-46a6-8cfc-15d67e460638",
   "metadata": {},
   "outputs": [
    {
     "data": {
      "text/plain": [
       "0        1.000000\n",
       "1        1.000000\n",
       "2        1.000000\n",
       "3        1.000000\n",
       "4        0.500000\n",
       "           ...   \n",
       "95680    1.000000\n",
       "95681    0.344828\n",
       "95682    0.562500\n",
       "95683    0.357143\n",
       "95684    0.300000\n",
       "Length: 95685, dtype: float64"
      ]
     },
     "execution_count": 11,
     "metadata": {},
     "output_type": "execute_result"
    }
   ],
   "source": [
    "air_quality['PM2.5']/air_quality['PM10']"
   ]
  },
  {
   "cell_type": "code",
   "execution_count": 12,
   "id": "f456809d-f8ab-4208-a51e-fb8a81d19711",
   "metadata": {},
   "outputs": [],
   "source": [
    "# Add new column to air_quality: \"Go outside\", \"Stay Inside\"\n",
    "# based on PM2.5_category, TEMP_category, RAIN"
   ]
  },
  {
   "cell_type": "code",
   "execution_count": 14,
   "id": "f8ade918-654f-4796-91b9-99493753680a",
   "metadata": {},
   "outputs": [
    {
     "data": {
      "text/plain": [
       "0        Stay inside\n",
       "1        Stay inside\n",
       "2        Stay inside\n",
       "3        Stay inside\n",
       "4        Stay inside\n",
       "            ...     \n",
       "95680     Go outside\n",
       "95681     Go outside\n",
       "95682     Go outside\n",
       "95683     Go outside\n",
       "95684    Stay inside\n",
       "Length: 95685, dtype: object"
      ]
     },
     "execution_count": 14,
     "metadata": {},
     "output_type": "execute_result"
    }
   ],
   "source": [
    "def activity_decision(pm25_category, temp_category, rain):\n",
    "    if pm25_category in ['Good', 'Moderate'] and temp_category in ['Warm', 'Hot'] and rain == 0:\n",
    "        return 'Go outside'\n",
    "    else:\n",
    "        return 'Stay inside'\n",
    "\n",
    "air_quality.apply(lambda row: activity_decision(row['PM2.5_category'], row['TEMP_category'], row['RAIN']), axis=1)"
   ]
  },
  {
   "cell_type": "code",
   "execution_count": 15,
   "id": "4da871f5-3f57-4e96-932a-d4b90f09f91c",
   "metadata": {},
   "outputs": [],
   "source": [
    "air_quality['activity']=air_quality.apply(lambda row: activity_decision(row['PM2.5_category'], row['TEMP_category'], row['RAIN']), axis=1)"
   ]
  },
  {
   "cell_type": "code",
   "execution_count": 16,
   "id": "4aa6888c-b216-4c68-b69d-9628093201b9",
   "metadata": {},
   "outputs": [
    {
     "data": {
      "text/html": [
       "<div>\n",
       "<style scoped>\n",
       "    .dataframe tbody tr th:only-of-type {\n",
       "        vertical-align: middle;\n",
       "    }\n",
       "\n",
       "    .dataframe tbody tr th {\n",
       "        vertical-align: top;\n",
       "    }\n",
       "\n",
       "    .dataframe thead th {\n",
       "        text-align: right;\n",
       "    }\n",
       "</style>\n",
       "<table border=\"1\" class=\"dataframe\">\n",
       "  <thead>\n",
       "    <tr style=\"text-align: right;\">\n",
       "      <th></th>\n",
       "      <th>PM2.5_category</th>\n",
       "      <th>TEMP_category</th>\n",
       "      <th>RAIN</th>\n",
       "      <th>activity</th>\n",
       "    </tr>\n",
       "  </thead>\n",
       "  <tbody>\n",
       "    <tr>\n",
       "      <th>0</th>\n",
       "      <td>Good</td>\n",
       "      <td>Very cold</td>\n",
       "      <td>0.0</td>\n",
       "      <td>Stay inside</td>\n",
       "    </tr>\n",
       "    <tr>\n",
       "      <th>1</th>\n",
       "      <td>Good</td>\n",
       "      <td>Very cold</td>\n",
       "      <td>0.0</td>\n",
       "      <td>Stay inside</td>\n",
       "    </tr>\n",
       "    <tr>\n",
       "      <th>2</th>\n",
       "      <td>Good</td>\n",
       "      <td>Very cold</td>\n",
       "      <td>0.0</td>\n",
       "      <td>Stay inside</td>\n",
       "    </tr>\n",
       "    <tr>\n",
       "      <th>3</th>\n",
       "      <td>Good</td>\n",
       "      <td>Very cold</td>\n",
       "      <td>0.0</td>\n",
       "      <td>Stay inside</td>\n",
       "    </tr>\n",
       "    <tr>\n",
       "      <th>4</th>\n",
       "      <td>Good</td>\n",
       "      <td>Very cold</td>\n",
       "      <td>0.0</td>\n",
       "      <td>Stay inside</td>\n",
       "    </tr>\n",
       "    <tr>\n",
       "      <th>...</th>\n",
       "      <td>...</td>\n",
       "      <td>...</td>\n",
       "      <td>...</td>\n",
       "      <td>...</td>\n",
       "    </tr>\n",
       "    <tr>\n",
       "      <th>95680</th>\n",
       "      <td>Good</td>\n",
       "      <td>Warm</td>\n",
       "      <td>0.0</td>\n",
       "      <td>Go outside</td>\n",
       "    </tr>\n",
       "    <tr>\n",
       "      <th>95681</th>\n",
       "      <td>Good</td>\n",
       "      <td>Warm</td>\n",
       "      <td>0.0</td>\n",
       "      <td>Go outside</td>\n",
       "    </tr>\n",
       "    <tr>\n",
       "      <th>95682</th>\n",
       "      <td>Moderate</td>\n",
       "      <td>Warm</td>\n",
       "      <td>0.0</td>\n",
       "      <td>Go outside</td>\n",
       "    </tr>\n",
       "    <tr>\n",
       "      <th>95683</th>\n",
       "      <td>Moderate</td>\n",
       "      <td>Warm</td>\n",
       "      <td>0.0</td>\n",
       "      <td>Go outside</td>\n",
       "    </tr>\n",
       "    <tr>\n",
       "      <th>95684</th>\n",
       "      <td>Moderate</td>\n",
       "      <td>Cold</td>\n",
       "      <td>0.0</td>\n",
       "      <td>Stay inside</td>\n",
       "    </tr>\n",
       "  </tbody>\n",
       "</table>\n",
       "<p>95685 rows × 4 columns</p>\n",
       "</div>"
      ],
      "text/plain": [
       "      PM2.5_category TEMP_category  RAIN     activity\n",
       "0               Good     Very cold   0.0  Stay inside\n",
       "1               Good     Very cold   0.0  Stay inside\n",
       "2               Good     Very cold   0.0  Stay inside\n",
       "3               Good     Very cold   0.0  Stay inside\n",
       "4               Good     Very cold   0.0  Stay inside\n",
       "...              ...           ...   ...          ...\n",
       "95680           Good          Warm   0.0   Go outside\n",
       "95681           Good          Warm   0.0   Go outside\n",
       "95682       Moderate          Warm   0.0   Go outside\n",
       "95683       Moderate          Warm   0.0   Go outside\n",
       "95684       Moderate          Cold   0.0  Stay inside\n",
       "\n",
       "[95685 rows x 4 columns]"
      ]
     },
     "execution_count": 16,
     "metadata": {},
     "output_type": "execute_result"
    }
   ],
   "source": [
    "air_quality[['PM2.5_category', 'TEMP_category', 'RAIN', 'activity']]"
   ]
  },
  {
   "cell_type": "code",
   "execution_count": 17,
   "id": "ddce1af6-527e-43a3-8e25-3122995ae822",
   "metadata": {},
   "outputs": [
    {
     "data": {
      "text/plain": [
       "activity\n",
       "Stay inside    0.874777\n",
       "Go outside     0.125223\n",
       "Name: proportion, dtype: float64"
      ]
     },
     "execution_count": 17,
     "metadata": {},
     "output_type": "execute_result"
    }
   ],
   "source": [
    "air_quality['activity'].value_counts(normalize=True)"
   ]
  },
  {
   "cell_type": "code",
   "execution_count": 20,
   "id": "dfebda89-dbac-4022-a62f-00458d71951f",
   "metadata": {},
   "outputs": [],
   "source": [
    "air_quality.to_pickle('air_quality.pkl')"
   ]
  },
  {
   "cell_type": "code",
   "execution_count": null,
   "id": "1d3279bd-9cd3-4204-bc23-973e3681aaa5",
   "metadata": {},
   "outputs": [],
   "source": []
  }
 ],
 "metadata": {
  "kernelspec": {
   "display_name": "Python 3 (ipykernel)",
   "language": "python",
   "name": "python3"
  },
  "language_info": {
   "codemirror_mode": {
    "name": "ipython",
    "version": 3
   },
   "file_extension": ".py",
   "mimetype": "text/x-python",
   "name": "python",
   "nbconvert_exporter": "python",
   "pygments_lexer": "ipython3",
   "version": "3.12.4"
  }
 },
 "nbformat": 4,
 "nbformat_minor": 5
}
